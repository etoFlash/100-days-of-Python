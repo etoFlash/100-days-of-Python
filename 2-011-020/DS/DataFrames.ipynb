{
 "cells": [
  {
   "cell_type": "code",
   "execution_count": 1,
   "metadata": {},
   "outputs": [],
   "source": [
    "import numpy as np\n",
    "import pandas as pd"
   ]
  },
  {
   "cell_type": "code",
   "execution_count": 3,
   "metadata": {},
   "outputs": [],
   "source": [
    "my_df = pd.DataFrame(np.random.randn(4, 5), [1, 2, 3, 4],\n",
    "                     ['red', 'orange', 'yellow', 'green', 'blue'])"
   ]
  },
  {
   "cell_type": "code",
   "execution_count": 4,
   "metadata": {},
   "outputs": [
    {
     "data": {
      "text/html": [
       "<div>\n",
       "<style scoped>\n",
       "    .dataframe tbody tr th:only-of-type {\n",
       "        vertical-align: middle;\n",
       "    }\n",
       "\n",
       "    .dataframe tbody tr th {\n",
       "        vertical-align: top;\n",
       "    }\n",
       "\n",
       "    .dataframe thead th {\n",
       "        text-align: right;\n",
       "    }\n",
       "</style>\n",
       "<table border=\"1\" class=\"dataframe\">\n",
       "  <thead>\n",
       "    <tr style=\"text-align: right;\">\n",
       "      <th></th>\n",
       "      <th>red</th>\n",
       "      <th>orange</th>\n",
       "      <th>yellow</th>\n",
       "      <th>green</th>\n",
       "      <th>blue</th>\n",
       "    </tr>\n",
       "  </thead>\n",
       "  <tbody>\n",
       "    <tr>\n",
       "      <th>1</th>\n",
       "      <td>-2.296054</td>\n",
       "      <td>-0.676138</td>\n",
       "      <td>1.587921</td>\n",
       "      <td>-0.877326</td>\n",
       "      <td>0.586361</td>\n",
       "    </tr>\n",
       "    <tr>\n",
       "      <th>2</th>\n",
       "      <td>0.689716</td>\n",
       "      <td>1.328805</td>\n",
       "      <td>-1.194583</td>\n",
       "      <td>1.206870</td>\n",
       "      <td>1.094733</td>\n",
       "    </tr>\n",
       "    <tr>\n",
       "      <th>3</th>\n",
       "      <td>-1.138222</td>\n",
       "      <td>0.757268</td>\n",
       "      <td>-0.499140</td>\n",
       "      <td>-1.382607</td>\n",
       "      <td>0.904858</td>\n",
       "    </tr>\n",
       "    <tr>\n",
       "      <th>4</th>\n",
       "      <td>-1.580638</td>\n",
       "      <td>-0.473353</td>\n",
       "      <td>0.755980</td>\n",
       "      <td>0.684905</td>\n",
       "      <td>0.451581</td>\n",
       "    </tr>\n",
       "  </tbody>\n",
       "</table>\n",
       "</div>"
      ],
      "text/plain": [
       "        red    orange    yellow     green      blue\n",
       "1 -2.296054 -0.676138  1.587921 -0.877326  0.586361\n",
       "2  0.689716  1.328805 -1.194583  1.206870  1.094733\n",
       "3 -1.138222  0.757268 -0.499140 -1.382607  0.904858\n",
       "4 -1.580638 -0.473353  0.755980  0.684905  0.451581"
      ]
     },
     "execution_count": 4,
     "metadata": {},
     "output_type": "execute_result"
    }
   ],
   "source": [
    "my_df"
   ]
  },
  {
   "cell_type": "code",
   "execution_count": 5,
   "metadata": {},
   "outputs": [
    {
     "data": {
      "text/plain": [
       "1   -0.676138\n",
       "2    1.328805\n",
       "3    0.757268\n",
       "4   -0.473353\n",
       "Name: orange, dtype: float64"
      ]
     },
     "execution_count": 5,
     "metadata": {},
     "output_type": "execute_result"
    }
   ],
   "source": [
    "my_df['orange']"
   ]
  },
  {
   "cell_type": "code",
   "execution_count": 6,
   "metadata": {},
   "outputs": [
    {
     "data": {
      "text/plain": [
       "1   -2.296054\n",
       "2    0.689716\n",
       "3   -1.138222\n",
       "4   -1.580638\n",
       "Name: red, dtype: float64"
      ]
     },
     "execution_count": 6,
     "metadata": {},
     "output_type": "execute_result"
    }
   ],
   "source": [
    "my_df['red']"
   ]
  },
  {
   "cell_type": "code",
   "execution_count": 7,
   "metadata": {},
   "outputs": [
    {
     "data": {
      "text/plain": [
       "pandas.core.series.Series"
      ]
     },
     "execution_count": 7,
     "metadata": {},
     "output_type": "execute_result"
    }
   ],
   "source": [
    "type(my_df['orange'])"
   ]
  },
  {
   "cell_type": "code",
   "execution_count": 8,
   "metadata": {},
   "outputs": [
    {
     "data": {
      "text/plain": [
       "pandas.core.frame.DataFrame"
      ]
     },
     "execution_count": 8,
     "metadata": {},
     "output_type": "execute_result"
    }
   ],
   "source": [
    "type(my_df)"
   ]
  },
  {
   "cell_type": "code",
   "execution_count": 9,
   "metadata": {},
   "outputs": [
    {
     "data": {
      "text/html": [
       "<div>\n",
       "<style scoped>\n",
       "    .dataframe tbody tr th:only-of-type {\n",
       "        vertical-align: middle;\n",
       "    }\n",
       "\n",
       "    .dataframe tbody tr th {\n",
       "        vertical-align: top;\n",
       "    }\n",
       "\n",
       "    .dataframe thead th {\n",
       "        text-align: right;\n",
       "    }\n",
       "</style>\n",
       "<table border=\"1\" class=\"dataframe\">\n",
       "  <thead>\n",
       "    <tr style=\"text-align: right;\">\n",
       "      <th></th>\n",
       "      <th>yellow</th>\n",
       "      <th>blue</th>\n",
       "    </tr>\n",
       "  </thead>\n",
       "  <tbody>\n",
       "    <tr>\n",
       "      <th>1</th>\n",
       "      <td>1.587921</td>\n",
       "      <td>0.586361</td>\n",
       "    </tr>\n",
       "    <tr>\n",
       "      <th>2</th>\n",
       "      <td>-1.194583</td>\n",
       "      <td>1.094733</td>\n",
       "    </tr>\n",
       "    <tr>\n",
       "      <th>3</th>\n",
       "      <td>-0.499140</td>\n",
       "      <td>0.904858</td>\n",
       "    </tr>\n",
       "    <tr>\n",
       "      <th>4</th>\n",
       "      <td>0.755980</td>\n",
       "      <td>0.451581</td>\n",
       "    </tr>\n",
       "  </tbody>\n",
       "</table>\n",
       "</div>"
      ],
      "text/plain": [
       "     yellow      blue\n",
       "1  1.587921  0.586361\n",
       "2 -1.194583  1.094733\n",
       "3 -0.499140  0.904858\n",
       "4  0.755980  0.451581"
      ]
     },
     "execution_count": 9,
     "metadata": {},
     "output_type": "execute_result"
    }
   ],
   "source": [
    "my_df[['yellow', 'blue']]"
   ]
  },
  {
   "cell_type": "code",
   "execution_count": 10,
   "metadata": {},
   "outputs": [
    {
     "data": {
      "text/plain": [
       "pandas.core.frame.DataFrame"
      ]
     },
     "execution_count": 10,
     "metadata": {},
     "output_type": "execute_result"
    }
   ],
   "source": [
    "type(my_df[['yellow', 'blue']])"
   ]
  },
  {
   "cell_type": "code",
   "execution_count": 11,
   "metadata": {},
   "outputs": [],
   "source": [
    "my_df['indigo'] = my_df['blue']"
   ]
  },
  {
   "cell_type": "code",
   "execution_count": 12,
   "metadata": {},
   "outputs": [
    {
     "data": {
      "text/html": [
       "<div>\n",
       "<style scoped>\n",
       "    .dataframe tbody tr th:only-of-type {\n",
       "        vertical-align: middle;\n",
       "    }\n",
       "\n",
       "    .dataframe tbody tr th {\n",
       "        vertical-align: top;\n",
       "    }\n",
       "\n",
       "    .dataframe thead th {\n",
       "        text-align: right;\n",
       "    }\n",
       "</style>\n",
       "<table border=\"1\" class=\"dataframe\">\n",
       "  <thead>\n",
       "    <tr style=\"text-align: right;\">\n",
       "      <th></th>\n",
       "      <th>red</th>\n",
       "      <th>orange</th>\n",
       "      <th>yellow</th>\n",
       "      <th>green</th>\n",
       "      <th>blue</th>\n",
       "      <th>indigo</th>\n",
       "    </tr>\n",
       "  </thead>\n",
       "  <tbody>\n",
       "    <tr>\n",
       "      <th>1</th>\n",
       "      <td>-2.296054</td>\n",
       "      <td>-0.676138</td>\n",
       "      <td>1.587921</td>\n",
       "      <td>-0.877326</td>\n",
       "      <td>0.586361</td>\n",
       "      <td>0.586361</td>\n",
       "    </tr>\n",
       "    <tr>\n",
       "      <th>2</th>\n",
       "      <td>0.689716</td>\n",
       "      <td>1.328805</td>\n",
       "      <td>-1.194583</td>\n",
       "      <td>1.206870</td>\n",
       "      <td>1.094733</td>\n",
       "      <td>1.094733</td>\n",
       "    </tr>\n",
       "    <tr>\n",
       "      <th>3</th>\n",
       "      <td>-1.138222</td>\n",
       "      <td>0.757268</td>\n",
       "      <td>-0.499140</td>\n",
       "      <td>-1.382607</td>\n",
       "      <td>0.904858</td>\n",
       "      <td>0.904858</td>\n",
       "    </tr>\n",
       "    <tr>\n",
       "      <th>4</th>\n",
       "      <td>-1.580638</td>\n",
       "      <td>-0.473353</td>\n",
       "      <td>0.755980</td>\n",
       "      <td>0.684905</td>\n",
       "      <td>0.451581</td>\n",
       "      <td>0.451581</td>\n",
       "    </tr>\n",
       "  </tbody>\n",
       "</table>\n",
       "</div>"
      ],
      "text/plain": [
       "        red    orange    yellow     green      blue    indigo\n",
       "1 -2.296054 -0.676138  1.587921 -0.877326  0.586361  0.586361\n",
       "2  0.689716  1.328805 -1.194583  1.206870  1.094733  1.094733\n",
       "3 -1.138222  0.757268 -0.499140 -1.382607  0.904858  0.904858\n",
       "4 -1.580638 -0.473353  0.755980  0.684905  0.451581  0.451581"
      ]
     },
     "execution_count": 12,
     "metadata": {},
     "output_type": "execute_result"
    }
   ],
   "source": [
    "my_df"
   ]
  },
  {
   "cell_type": "code",
   "execution_count": 13,
   "metadata": {},
   "outputs": [],
   "source": [
    "my_df['violet'] = my_df['blue'] + my_df['indigo']"
   ]
  },
  {
   "cell_type": "code",
   "execution_count": 14,
   "metadata": {},
   "outputs": [
    {
     "data": {
      "text/html": [
       "<div>\n",
       "<style scoped>\n",
       "    .dataframe tbody tr th:only-of-type {\n",
       "        vertical-align: middle;\n",
       "    }\n",
       "\n",
       "    .dataframe tbody tr th {\n",
       "        vertical-align: top;\n",
       "    }\n",
       "\n",
       "    .dataframe thead th {\n",
       "        text-align: right;\n",
       "    }\n",
       "</style>\n",
       "<table border=\"1\" class=\"dataframe\">\n",
       "  <thead>\n",
       "    <tr style=\"text-align: right;\">\n",
       "      <th></th>\n",
       "      <th>red</th>\n",
       "      <th>orange</th>\n",
       "      <th>yellow</th>\n",
       "      <th>green</th>\n",
       "      <th>blue</th>\n",
       "      <th>indigo</th>\n",
       "      <th>violet</th>\n",
       "    </tr>\n",
       "  </thead>\n",
       "  <tbody>\n",
       "    <tr>\n",
       "      <th>1</th>\n",
       "      <td>-2.296054</td>\n",
       "      <td>-0.676138</td>\n",
       "      <td>1.587921</td>\n",
       "      <td>-0.877326</td>\n",
       "      <td>0.586361</td>\n",
       "      <td>0.586361</td>\n",
       "      <td>1.172722</td>\n",
       "    </tr>\n",
       "    <tr>\n",
       "      <th>2</th>\n",
       "      <td>0.689716</td>\n",
       "      <td>1.328805</td>\n",
       "      <td>-1.194583</td>\n",
       "      <td>1.206870</td>\n",
       "      <td>1.094733</td>\n",
       "      <td>1.094733</td>\n",
       "      <td>2.189466</td>\n",
       "    </tr>\n",
       "    <tr>\n",
       "      <th>3</th>\n",
       "      <td>-1.138222</td>\n",
       "      <td>0.757268</td>\n",
       "      <td>-0.499140</td>\n",
       "      <td>-1.382607</td>\n",
       "      <td>0.904858</td>\n",
       "      <td>0.904858</td>\n",
       "      <td>1.809716</td>\n",
       "    </tr>\n",
       "    <tr>\n",
       "      <th>4</th>\n",
       "      <td>-1.580638</td>\n",
       "      <td>-0.473353</td>\n",
       "      <td>0.755980</td>\n",
       "      <td>0.684905</td>\n",
       "      <td>0.451581</td>\n",
       "      <td>0.451581</td>\n",
       "      <td>0.903163</td>\n",
       "    </tr>\n",
       "  </tbody>\n",
       "</table>\n",
       "</div>"
      ],
      "text/plain": [
       "        red    orange    yellow     green      blue    indigo    violet\n",
       "1 -2.296054 -0.676138  1.587921 -0.877326  0.586361  0.586361  1.172722\n",
       "2  0.689716  1.328805 -1.194583  1.206870  1.094733  1.094733  2.189466\n",
       "3 -1.138222  0.757268 -0.499140 -1.382607  0.904858  0.904858  1.809716\n",
       "4 -1.580638 -0.473353  0.755980  0.684905  0.451581  0.451581  0.903163"
      ]
     },
     "execution_count": 14,
     "metadata": {},
     "output_type": "execute_result"
    }
   ],
   "source": [
    "my_df"
   ]
  },
  {
   "cell_type": "code",
   "execution_count": 15,
   "metadata": {},
   "outputs": [
    {
     "data": {
      "text/plain": [
       "red       0.689716\n",
       "orange    1.328805\n",
       "yellow   -1.194583\n",
       "green     1.206870\n",
       "blue      1.094733\n",
       "indigo    1.094733\n",
       "violet    2.189466\n",
       "Name: 2, dtype: float64"
      ]
     },
     "execution_count": 15,
     "metadata": {},
     "output_type": "execute_result"
    }
   ],
   "source": [
    "my_df.loc[2]"
   ]
  },
  {
   "cell_type": "code",
   "execution_count": 17,
   "metadata": {},
   "outputs": [
    {
     "data": {
      "text/plain": [
       "red      -1.138222\n",
       "orange    0.757268\n",
       "yellow   -0.499140\n",
       "green    -1.382607\n",
       "blue      0.904858\n",
       "indigo    0.904858\n",
       "violet    1.809716\n",
       "Name: 3, dtype: float64"
      ]
     },
     "execution_count": 17,
     "metadata": {},
     "output_type": "execute_result"
    }
   ],
   "source": [
    "my_df.iloc[2]"
   ]
  },
  {
   "cell_type": "code",
   "execution_count": 18,
   "metadata": {},
   "outputs": [],
   "source": [
    "my_df.iloc[2] = my_df.iloc[1]"
   ]
  },
  {
   "cell_type": "code",
   "execution_count": 19,
   "metadata": {},
   "outputs": [
    {
     "data": {
      "text/html": [
       "<div>\n",
       "<style scoped>\n",
       "    .dataframe tbody tr th:only-of-type {\n",
       "        vertical-align: middle;\n",
       "    }\n",
       "\n",
       "    .dataframe tbody tr th {\n",
       "        vertical-align: top;\n",
       "    }\n",
       "\n",
       "    .dataframe thead th {\n",
       "        text-align: right;\n",
       "    }\n",
       "</style>\n",
       "<table border=\"1\" class=\"dataframe\">\n",
       "  <thead>\n",
       "    <tr style=\"text-align: right;\">\n",
       "      <th></th>\n",
       "      <th>red</th>\n",
       "      <th>orange</th>\n",
       "      <th>yellow</th>\n",
       "      <th>green</th>\n",
       "      <th>blue</th>\n",
       "      <th>indigo</th>\n",
       "      <th>violet</th>\n",
       "    </tr>\n",
       "  </thead>\n",
       "  <tbody>\n",
       "    <tr>\n",
       "      <th>1</th>\n",
       "      <td>-2.296054</td>\n",
       "      <td>-0.676138</td>\n",
       "      <td>1.587921</td>\n",
       "      <td>-0.877326</td>\n",
       "      <td>0.586361</td>\n",
       "      <td>0.586361</td>\n",
       "      <td>1.172722</td>\n",
       "    </tr>\n",
       "    <tr>\n",
       "      <th>2</th>\n",
       "      <td>0.689716</td>\n",
       "      <td>1.328805</td>\n",
       "      <td>-1.194583</td>\n",
       "      <td>1.206870</td>\n",
       "      <td>1.094733</td>\n",
       "      <td>1.094733</td>\n",
       "      <td>2.189466</td>\n",
       "    </tr>\n",
       "    <tr>\n",
       "      <th>3</th>\n",
       "      <td>0.689716</td>\n",
       "      <td>1.328805</td>\n",
       "      <td>-1.194583</td>\n",
       "      <td>1.206870</td>\n",
       "      <td>1.094733</td>\n",
       "      <td>1.094733</td>\n",
       "      <td>2.189466</td>\n",
       "    </tr>\n",
       "    <tr>\n",
       "      <th>4</th>\n",
       "      <td>-1.580638</td>\n",
       "      <td>-0.473353</td>\n",
       "      <td>0.755980</td>\n",
       "      <td>0.684905</td>\n",
       "      <td>0.451581</td>\n",
       "      <td>0.451581</td>\n",
       "      <td>0.903163</td>\n",
       "    </tr>\n",
       "  </tbody>\n",
       "</table>\n",
       "</div>"
      ],
      "text/plain": [
       "        red    orange    yellow     green      blue    indigo    violet\n",
       "1 -2.296054 -0.676138  1.587921 -0.877326  0.586361  0.586361  1.172722\n",
       "2  0.689716  1.328805 -1.194583  1.206870  1.094733  1.094733  2.189466\n",
       "3  0.689716  1.328805 -1.194583  1.206870  1.094733  1.094733  2.189466\n",
       "4 -1.580638 -0.473353  0.755980  0.684905  0.451581  0.451581  0.903163"
      ]
     },
     "execution_count": 19,
     "metadata": {},
     "output_type": "execute_result"
    }
   ],
   "source": [
    "my_df"
   ]
  },
  {
   "cell_type": "code",
   "execution_count": 20,
   "metadata": {},
   "outputs": [
    {
     "data": {
      "text/plain": [
       "red       0.689716\n",
       "orange    1.328805\n",
       "yellow   -1.194583\n",
       "green     1.206870\n",
       "blue      1.094733\n",
       "indigo    1.094733\n",
       "violet    2.189466\n",
       "Name: 3, dtype: float64"
      ]
     },
     "execution_count": 20,
     "metadata": {},
     "output_type": "execute_result"
    }
   ],
   "source": [
    "my_df.iloc[2]"
   ]
  },
  {
   "cell_type": "code",
   "execution_count": 21,
   "metadata": {},
   "outputs": [
    {
     "data": {
      "text/plain": [
       "1.3288054677819723"
      ]
     },
     "execution_count": 21,
     "metadata": {},
     "output_type": "execute_result"
    }
   ],
   "source": [
    "my_df.loc[3, 'orange']"
   ]
  },
  {
   "cell_type": "code",
   "execution_count": 22,
   "metadata": {},
   "outputs": [
    {
     "data": {
      "text/html": [
       "<div>\n",
       "<style scoped>\n",
       "    .dataframe tbody tr th:only-of-type {\n",
       "        vertical-align: middle;\n",
       "    }\n",
       "\n",
       "    .dataframe tbody tr th {\n",
       "        vertical-align: top;\n",
       "    }\n",
       "\n",
       "    .dataframe thead th {\n",
       "        text-align: right;\n",
       "    }\n",
       "</style>\n",
       "<table border=\"1\" class=\"dataframe\">\n",
       "  <thead>\n",
       "    <tr style=\"text-align: right;\">\n",
       "      <th></th>\n",
       "      <th>blue</th>\n",
       "      <th>violet</th>\n",
       "    </tr>\n",
       "  </thead>\n",
       "  <tbody>\n",
       "    <tr>\n",
       "      <th>1</th>\n",
       "      <td>0.586361</td>\n",
       "      <td>1.172722</td>\n",
       "    </tr>\n",
       "    <tr>\n",
       "      <th>3</th>\n",
       "      <td>1.094733</td>\n",
       "      <td>2.189466</td>\n",
       "    </tr>\n",
       "  </tbody>\n",
       "</table>\n",
       "</div>"
      ],
      "text/plain": [
       "       blue    violet\n",
       "1  0.586361  1.172722\n",
       "3  1.094733  2.189466"
      ]
     },
     "execution_count": 22,
     "metadata": {},
     "output_type": "execute_result"
    }
   ],
   "source": [
    "my_df.loc[[1, 3], ['blue', 'violet']]"
   ]
  },
  {
   "cell_type": "code",
   "execution_count": 23,
   "metadata": {},
   "outputs": [
    {
     "data": {
      "text/html": [
       "<div>\n",
       "<style scoped>\n",
       "    .dataframe tbody tr th:only-of-type {\n",
       "        vertical-align: middle;\n",
       "    }\n",
       "\n",
       "    .dataframe tbody tr th {\n",
       "        vertical-align: top;\n",
       "    }\n",
       "\n",
       "    .dataframe thead th {\n",
       "        text-align: right;\n",
       "    }\n",
       "</style>\n",
       "<table border=\"1\" class=\"dataframe\">\n",
       "  <thead>\n",
       "    <tr style=\"text-align: right;\">\n",
       "      <th></th>\n",
       "      <th>red</th>\n",
       "      <th>orange</th>\n",
       "      <th>yellow</th>\n",
       "      <th>green</th>\n",
       "      <th>blue</th>\n",
       "      <th>indigo</th>\n",
       "      <th>violet</th>\n",
       "    </tr>\n",
       "  </thead>\n",
       "  <tbody>\n",
       "    <tr>\n",
       "      <th>1</th>\n",
       "      <td>-2.296054</td>\n",
       "      <td>-0.676138</td>\n",
       "      <td>1.587921</td>\n",
       "      <td>-0.877326</td>\n",
       "      <td>0.586361</td>\n",
       "      <td>0.586361</td>\n",
       "      <td>1.172722</td>\n",
       "    </tr>\n",
       "    <tr>\n",
       "      <th>2</th>\n",
       "      <td>0.689716</td>\n",
       "      <td>1.328805</td>\n",
       "      <td>-1.194583</td>\n",
       "      <td>1.206870</td>\n",
       "      <td>1.094733</td>\n",
       "      <td>1.094733</td>\n",
       "      <td>2.189466</td>\n",
       "    </tr>\n",
       "    <tr>\n",
       "      <th>4</th>\n",
       "      <td>-1.580638</td>\n",
       "      <td>-0.473353</td>\n",
       "      <td>0.755980</td>\n",
       "      <td>0.684905</td>\n",
       "      <td>0.451581</td>\n",
       "      <td>0.451581</td>\n",
       "      <td>0.903163</td>\n",
       "    </tr>\n",
       "  </tbody>\n",
       "</table>\n",
       "</div>"
      ],
      "text/plain": [
       "        red    orange    yellow     green      blue    indigo    violet\n",
       "1 -2.296054 -0.676138  1.587921 -0.877326  0.586361  0.586361  1.172722\n",
       "2  0.689716  1.328805 -1.194583  1.206870  1.094733  1.094733  2.189466\n",
       "4 -1.580638 -0.473353  0.755980  0.684905  0.451581  0.451581  0.903163"
      ]
     },
     "execution_count": 23,
     "metadata": {},
     "output_type": "execute_result"
    }
   ],
   "source": [
    "my_df.drop(3)"
   ]
  },
  {
   "cell_type": "code",
   "execution_count": 24,
   "metadata": {},
   "outputs": [
    {
     "data": {
      "text/html": [
       "<div>\n",
       "<style scoped>\n",
       "    .dataframe tbody tr th:only-of-type {\n",
       "        vertical-align: middle;\n",
       "    }\n",
       "\n",
       "    .dataframe tbody tr th {\n",
       "        vertical-align: top;\n",
       "    }\n",
       "\n",
       "    .dataframe thead th {\n",
       "        text-align: right;\n",
       "    }\n",
       "</style>\n",
       "<table border=\"1\" class=\"dataframe\">\n",
       "  <thead>\n",
       "    <tr style=\"text-align: right;\">\n",
       "      <th></th>\n",
       "      <th>red</th>\n",
       "      <th>orange</th>\n",
       "      <th>yellow</th>\n",
       "      <th>green</th>\n",
       "      <th>blue</th>\n",
       "      <th>indigo</th>\n",
       "      <th>violet</th>\n",
       "    </tr>\n",
       "  </thead>\n",
       "  <tbody>\n",
       "    <tr>\n",
       "      <th>1</th>\n",
       "      <td>-2.296054</td>\n",
       "      <td>-0.676138</td>\n",
       "      <td>1.587921</td>\n",
       "      <td>-0.877326</td>\n",
       "      <td>0.586361</td>\n",
       "      <td>0.586361</td>\n",
       "      <td>1.172722</td>\n",
       "    </tr>\n",
       "    <tr>\n",
       "      <th>2</th>\n",
       "      <td>0.689716</td>\n",
       "      <td>1.328805</td>\n",
       "      <td>-1.194583</td>\n",
       "      <td>1.206870</td>\n",
       "      <td>1.094733</td>\n",
       "      <td>1.094733</td>\n",
       "      <td>2.189466</td>\n",
       "    </tr>\n",
       "    <tr>\n",
       "      <th>3</th>\n",
       "      <td>0.689716</td>\n",
       "      <td>1.328805</td>\n",
       "      <td>-1.194583</td>\n",
       "      <td>1.206870</td>\n",
       "      <td>1.094733</td>\n",
       "      <td>1.094733</td>\n",
       "      <td>2.189466</td>\n",
       "    </tr>\n",
       "    <tr>\n",
       "      <th>4</th>\n",
       "      <td>-1.580638</td>\n",
       "      <td>-0.473353</td>\n",
       "      <td>0.755980</td>\n",
       "      <td>0.684905</td>\n",
       "      <td>0.451581</td>\n",
       "      <td>0.451581</td>\n",
       "      <td>0.903163</td>\n",
       "    </tr>\n",
       "  </tbody>\n",
       "</table>\n",
       "</div>"
      ],
      "text/plain": [
       "        red    orange    yellow     green      blue    indigo    violet\n",
       "1 -2.296054 -0.676138  1.587921 -0.877326  0.586361  0.586361  1.172722\n",
       "2  0.689716  1.328805 -1.194583  1.206870  1.094733  1.094733  2.189466\n",
       "3  0.689716  1.328805 -1.194583  1.206870  1.094733  1.094733  2.189466\n",
       "4 -1.580638 -0.473353  0.755980  0.684905  0.451581  0.451581  0.903163"
      ]
     },
     "execution_count": 24,
     "metadata": {},
     "output_type": "execute_result"
    }
   ],
   "source": [
    "my_df"
   ]
  },
  {
   "cell_type": "code",
   "execution_count": 25,
   "metadata": {},
   "outputs": [],
   "source": [
    "my_df.drop(3, inplace=True)"
   ]
  },
  {
   "cell_type": "code",
   "execution_count": 26,
   "metadata": {},
   "outputs": [
    {
     "data": {
      "text/html": [
       "<div>\n",
       "<style scoped>\n",
       "    .dataframe tbody tr th:only-of-type {\n",
       "        vertical-align: middle;\n",
       "    }\n",
       "\n",
       "    .dataframe tbody tr th {\n",
       "        vertical-align: top;\n",
       "    }\n",
       "\n",
       "    .dataframe thead th {\n",
       "        text-align: right;\n",
       "    }\n",
       "</style>\n",
       "<table border=\"1\" class=\"dataframe\">\n",
       "  <thead>\n",
       "    <tr style=\"text-align: right;\">\n",
       "      <th></th>\n",
       "      <th>red</th>\n",
       "      <th>orange</th>\n",
       "      <th>yellow</th>\n",
       "      <th>green</th>\n",
       "      <th>blue</th>\n",
       "      <th>indigo</th>\n",
       "      <th>violet</th>\n",
       "    </tr>\n",
       "  </thead>\n",
       "  <tbody>\n",
       "    <tr>\n",
       "      <th>1</th>\n",
       "      <td>-2.296054</td>\n",
       "      <td>-0.676138</td>\n",
       "      <td>1.587921</td>\n",
       "      <td>-0.877326</td>\n",
       "      <td>0.586361</td>\n",
       "      <td>0.586361</td>\n",
       "      <td>1.172722</td>\n",
       "    </tr>\n",
       "    <tr>\n",
       "      <th>2</th>\n",
       "      <td>0.689716</td>\n",
       "      <td>1.328805</td>\n",
       "      <td>-1.194583</td>\n",
       "      <td>1.206870</td>\n",
       "      <td>1.094733</td>\n",
       "      <td>1.094733</td>\n",
       "      <td>2.189466</td>\n",
       "    </tr>\n",
       "    <tr>\n",
       "      <th>4</th>\n",
       "      <td>-1.580638</td>\n",
       "      <td>-0.473353</td>\n",
       "      <td>0.755980</td>\n",
       "      <td>0.684905</td>\n",
       "      <td>0.451581</td>\n",
       "      <td>0.451581</td>\n",
       "      <td>0.903163</td>\n",
       "    </tr>\n",
       "  </tbody>\n",
       "</table>\n",
       "</div>"
      ],
      "text/plain": [
       "        red    orange    yellow     green      blue    indigo    violet\n",
       "1 -2.296054 -0.676138  1.587921 -0.877326  0.586361  0.586361  1.172722\n",
       "2  0.689716  1.328805 -1.194583  1.206870  1.094733  1.094733  2.189466\n",
       "4 -1.580638 -0.473353  0.755980  0.684905  0.451581  0.451581  0.903163"
      ]
     },
     "execution_count": 26,
     "metadata": {},
     "output_type": "execute_result"
    }
   ],
   "source": [
    "my_df"
   ]
  },
  {
   "cell_type": "code",
   "execution_count": 27,
   "metadata": {},
   "outputs": [
    {
     "data": {
      "text/html": [
       "<div>\n",
       "<style scoped>\n",
       "    .dataframe tbody tr th:only-of-type {\n",
       "        vertical-align: middle;\n",
       "    }\n",
       "\n",
       "    .dataframe tbody tr th {\n",
       "        vertical-align: top;\n",
       "    }\n",
       "\n",
       "    .dataframe thead th {\n",
       "        text-align: right;\n",
       "    }\n",
       "</style>\n",
       "<table border=\"1\" class=\"dataframe\">\n",
       "  <thead>\n",
       "    <tr style=\"text-align: right;\">\n",
       "      <th></th>\n",
       "      <th>red</th>\n",
       "      <th>orange</th>\n",
       "      <th>yellow</th>\n",
       "      <th>green</th>\n",
       "      <th>blue</th>\n",
       "      <th>violet</th>\n",
       "    </tr>\n",
       "  </thead>\n",
       "  <tbody>\n",
       "    <tr>\n",
       "      <th>1</th>\n",
       "      <td>-2.296054</td>\n",
       "      <td>-0.676138</td>\n",
       "      <td>1.587921</td>\n",
       "      <td>-0.877326</td>\n",
       "      <td>0.586361</td>\n",
       "      <td>1.172722</td>\n",
       "    </tr>\n",
       "    <tr>\n",
       "      <th>2</th>\n",
       "      <td>0.689716</td>\n",
       "      <td>1.328805</td>\n",
       "      <td>-1.194583</td>\n",
       "      <td>1.206870</td>\n",
       "      <td>1.094733</td>\n",
       "      <td>2.189466</td>\n",
       "    </tr>\n",
       "    <tr>\n",
       "      <th>4</th>\n",
       "      <td>-1.580638</td>\n",
       "      <td>-0.473353</td>\n",
       "      <td>0.755980</td>\n",
       "      <td>0.684905</td>\n",
       "      <td>0.451581</td>\n",
       "      <td>0.903163</td>\n",
       "    </tr>\n",
       "  </tbody>\n",
       "</table>\n",
       "</div>"
      ],
      "text/plain": [
       "        red    orange    yellow     green      blue    violet\n",
       "1 -2.296054 -0.676138  1.587921 -0.877326  0.586361  1.172722\n",
       "2  0.689716  1.328805 -1.194583  1.206870  1.094733  2.189466\n",
       "4 -1.580638 -0.473353  0.755980  0.684905  0.451581  0.903163"
      ]
     },
     "execution_count": 27,
     "metadata": {},
     "output_type": "execute_result"
    }
   ],
   "source": [
    "my_df.drop('indigo', axis=1)"
   ]
  },
  {
   "cell_type": "code",
   "execution_count": 28,
   "metadata": {},
   "outputs": [],
   "source": [
    "my_df.drop('indigo', axis=1, inplace=True)"
   ]
  },
  {
   "cell_type": "code",
   "execution_count": 29,
   "metadata": {},
   "outputs": [
    {
     "data": {
      "text/html": [
       "<div>\n",
       "<style scoped>\n",
       "    .dataframe tbody tr th:only-of-type {\n",
       "        vertical-align: middle;\n",
       "    }\n",
       "\n",
       "    .dataframe tbody tr th {\n",
       "        vertical-align: top;\n",
       "    }\n",
       "\n",
       "    .dataframe thead th {\n",
       "        text-align: right;\n",
       "    }\n",
       "</style>\n",
       "<table border=\"1\" class=\"dataframe\">\n",
       "  <thead>\n",
       "    <tr style=\"text-align: right;\">\n",
       "      <th></th>\n",
       "      <th>red</th>\n",
       "      <th>orange</th>\n",
       "      <th>yellow</th>\n",
       "      <th>green</th>\n",
       "      <th>blue</th>\n",
       "      <th>violet</th>\n",
       "    </tr>\n",
       "  </thead>\n",
       "  <tbody>\n",
       "    <tr>\n",
       "      <th>1</th>\n",
       "      <td>-2.296054</td>\n",
       "      <td>-0.676138</td>\n",
       "      <td>1.587921</td>\n",
       "      <td>-0.877326</td>\n",
       "      <td>0.586361</td>\n",
       "      <td>1.172722</td>\n",
       "    </tr>\n",
       "    <tr>\n",
       "      <th>2</th>\n",
       "      <td>0.689716</td>\n",
       "      <td>1.328805</td>\n",
       "      <td>-1.194583</td>\n",
       "      <td>1.206870</td>\n",
       "      <td>1.094733</td>\n",
       "      <td>2.189466</td>\n",
       "    </tr>\n",
       "    <tr>\n",
       "      <th>4</th>\n",
       "      <td>-1.580638</td>\n",
       "      <td>-0.473353</td>\n",
       "      <td>0.755980</td>\n",
       "      <td>0.684905</td>\n",
       "      <td>0.451581</td>\n",
       "      <td>0.903163</td>\n",
       "    </tr>\n",
       "  </tbody>\n",
       "</table>\n",
       "</div>"
      ],
      "text/plain": [
       "        red    orange    yellow     green      blue    violet\n",
       "1 -2.296054 -0.676138  1.587921 -0.877326  0.586361  1.172722\n",
       "2  0.689716  1.328805 -1.194583  1.206870  1.094733  2.189466\n",
       "4 -1.580638 -0.473353  0.755980  0.684905  0.451581  0.903163"
      ]
     },
     "execution_count": 29,
     "metadata": {},
     "output_type": "execute_result"
    }
   ],
   "source": [
    "my_df"
   ]
  },
  {
   "cell_type": "code",
   "execution_count": 30,
   "metadata": {},
   "outputs": [
    {
     "data": {
      "text/plain": [
       "(3, 6)"
      ]
     },
     "execution_count": 30,
     "metadata": {},
     "output_type": "execute_result"
    }
   ],
   "source": [
    "my_df.shape"
   ]
  },
  {
   "cell_type": "code",
   "execution_count": null,
   "metadata": {},
   "outputs": [],
   "source": []
  }
 ],
 "metadata": {
  "kernelspec": {
   "display_name": "Python 3",
   "language": "python",
   "name": "python3"
  },
  "language_info": {
   "codemirror_mode": {
    "name": "ipython",
    "version": 3
   },
   "file_extension": ".py",
   "mimetype": "text/x-python",
   "name": "python",
   "nbconvert_exporter": "python",
   "pygments_lexer": "ipython3",
   "version": "3.7.6"
  }
 },
 "nbformat": 4,
 "nbformat_minor": 4
}
